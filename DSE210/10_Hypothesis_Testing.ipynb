{
 "cells": [
  {
   "cell_type": "markdown",
   "metadata": {},
   "source": [
    "<img src = \"images/Worksheet10/Header.png\">"
   ]
  },
  {
   "cell_type": "code",
   "execution_count": 4,
   "metadata": {
    "collapsed": false
   },
   "outputs": [
    {
     "name": "stdout",
     "output_type": "stream",
     "text": [
      "Problems 1, 2, 6, 7, 8, 9, 10, 12\n"
     ]
    }
   ],
   "source": [
    "%matplotlib inline\n",
    "print \"Problems 1, 2, 6, 7, 8, 9, 10, 12\""
   ]
  },
  {
   "cell_type": "markdown",
   "metadata": {
    "collapsed": false
   },
   "source": [
    "<img src = \"images/Worksheet10/1.png\">"
   ]
  },
  {
   "cell_type": "markdown",
   "metadata": {},
   "source": [
    "<b>1.</b> Not enough information. Deaths could be attributed to many things. "
   ]
  },
  {
   "cell_type": "markdown",
   "metadata": {},
   "source": [
    "<img src = \"images/Worksheet10/2.png\">"
   ]
  },
  {
   "cell_type": "markdown",
   "metadata": {},
   "source": [
    "<b>(a)</b> Observational study <p></p>\n",
    "<b>(b)</b> The study was trying to limit confounding factors <p></p>\n",
    "<b>(c)</b> That conclusion ignores other confounding factors (people being forced to stop smoking etc) <p></p>"
   ]
  },
  {
   "cell_type": "markdown",
   "metadata": {},
   "source": [
    "<img src = \"images/Worksheet10/6.png\">"
   ]
  },
  {
   "cell_type": "markdown",
   "metadata": {},
   "source": [
    "<b>(a)</b> Null hypothesis: coin is not biased. <p></p>\n",
    "Alternative hypothesis: Coin is biased if I find with 95 % confidence that it is over the upward bound (2 standard deviations). <p></p>\n",
    "<b>(b)</b> z = <sup>((Observed) - (expected))</sup>&frasl;<sub>standard deviation</sub> => z = <sup>((5400) - (5000))</sup>&frasl;<sub>50</sub> = 8  <p></p>\n",
    "<i>p-</i>value: way less than 1% <p></p>\n",
    "<b>(c)</b> The coined is obviously biased towards heads (with 95% + confidence)"
   ]
  },
  {
   "cell_type": "markdown",
   "metadata": {
    "collapsed": false
   },
   "source": [
    "<img src = \"images/Worksheet10/7.png\">"
   ]
  },
  {
   "cell_type": "markdown",
   "metadata": {},
   "source": [
    "<b>approach:</b> find z statistic <p></p>\n",
    "z = <sup>((Observed) - (expected))</sup>&frasl;<sub>standard deviation</sub> => z = <sup>((368) - (350))</sup>&frasl;<sub>var<sup>1/2</sup></sub><p></p>\n",
    "var = n * (E(X<sup>2</sup>) - &micro;<sup>2</sup>) =>\n"
   ]
  },
  {
   "cell_type": "markdown",
   "metadata": {},
   "source": [
    "var = <sup>1</sup>&frasl;<sub>6</sub>(1<sup>2</sup> + 2<sup>2</sup> + 3<sup>2</sup> + 4<sup>2</sup> + 5<sup>2</sup> + 6<sup>2</sup>)  - 3.5<sup>2</sup><p></p>"
   ]
  },
  {
   "cell_type": "code",
   "execution_count": 13,
   "metadata": {
    "collapsed": false
   },
   "outputs": [
    {
     "name": "stdout",
     "output_type": "stream",
     "text": [
      "The z statistic is only:  1.05397207878  and so it is unlikely the dice are loaded\n"
     ]
    }
   ],
   "source": [
    "var = 100 *  ((1**2 + 2**2 + 3**2 + 4**2 + 5**2 + 6**2)*(1.0/6) - (3.5**2))\n",
    "z = (368 - 350) / var**(1.0/2)\n",
    "print \"The z statistic is only: \", z, \" and so it is unlikely the dice are loaded\""
   ]
  },
  {
   "cell_type": "markdown",
   "metadata": {
    "collapsed": false
   },
   "source": [
    "<img src = \"images/Worksheet10/8.png\">"
   ]
  },
  {
   "cell_type": "code",
   "execution_count": 14,
   "metadata": {
    "collapsed": false
   },
   "outputs": [
    {
     "name": "stdout",
     "output_type": "stream",
     "text": [
      "Higher p-value\n"
     ]
    }
   ],
   "source": [
    "print \"Higher p-value\""
   ]
  },
  {
   "cell_type": "markdown",
   "metadata": {},
   "source": [
    "<img src = \"images/Worksheet10/9.png\">"
   ]
  },
  {
   "cell_type": "markdown",
   "metadata": {
    "collapsed": false
   },
   "source": [
    "<img src = \"images/Worksheet10/10.png\">"
   ]
  },
  {
   "cell_type": "markdown",
   "metadata": {},
   "source": [
    "<b>approach:</b> find z statistic <p></p>\n",
    "z = <sup>((Observed) - (expected))</sup>&frasl;<sub>standard deviation</sub> => z = <sup>((12.2) - (9.2))</sup>&frasl;<sub>var<sup>1/2</sup></sub> =><p></p>"
   ]
  },
  {
   "cell_type": "markdown",
   "metadata": {},
   "source": [
    "&#963; = (&#963;<sub>private</sub><sup>2</sup> + &#963;<sub>public</sub><sup>2</sup>)<sup>1/2</sup> = 14.43 (this works because var can be added)"
   ]
  },
  {
   "cell_type": "code",
   "execution_count": 20,
   "metadata": {
    "collapsed": false
   },
   "outputs": [
    {
     "name": "stdout",
     "output_type": "stream",
     "text": [
      "z:  0.2079002079 \n",
      "This value suggests this difference in averages is probably due to chance.\n"
     ]
    }
   ],
   "source": [
    "z = (12.2-9.2) / 14.43\n",
    "print \"z: \", z, \"\\nThis value suggests this difference in averages is probably due to chance.\""
   ]
  },
  {
   "cell_type": "code",
   "execution_count": 16,
   "metadata": {
    "collapsed": false
   },
   "outputs": [
    {
     "data": {
      "text/plain": [
       "14.431216164966832"
      ]
     },
     "execution_count": 16,
     "metadata": {},
     "output_type": "execute_result"
    }
   ],
   "source": [
    "(10.5**2 + 9.9**2)**(.5)"
   ]
  }
 ],
 "metadata": {
  "kernelspec": {
   "display_name": "Python 2",
   "language": "python",
   "name": "python2"
  },
  "language_info": {
   "codemirror_mode": {
    "name": "ipython",
    "version": 2
   },
   "file_extension": ".py",
   "mimetype": "text/x-python",
   "name": "python",
   "nbconvert_exporter": "python",
   "pygments_lexer": "ipython2",
   "version": "2.7.11"
  }
 },
 "nbformat": 4,
 "nbformat_minor": 0
}
