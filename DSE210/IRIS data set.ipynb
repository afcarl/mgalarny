{
 "cells": [
  {
   "cell_type": "markdown",
   "metadata": {},
   "source": [
    "<h1 align=\"center\"> IRIS data set </h1>"
   ]
  },
  {
   "cell_type": "markdown",
   "metadata": {},
   "source": [
    "Download the IRIS data set from: <p></p>\n",
    " https://archive.ics.uci.edu/ml/machine-learning-databases/iris/iris.data <p></p>\n",
    " \n",
    " This is a data set of 150 points in R<sup>4</sup>, with three classes; refer to the website for more details of the features and classes. <p></p>\n",
    " \n",
    " <b>(a)</b> Use a PCA projection to 2d to visualize the entire data set. You should plot different classes using different colors/shapes. Do the classes seem well-separated from each other? <p></p>\n",
    " \n",
    " <b>(b)</b> Now build a classifier for this data set, based on a generative model. \n"
   ]
  },
  {
   "cell_type": "code",
   "execution_count": 151,
   "metadata": {
    "collapsed": true
   },
   "outputs": [],
   "source": [
    "%matplotlib inline\n",
    "import pandas as pd\n",
    "import matplotlib.pyplot as plt\n",
    "import numpy as np\n",
    "import random\n",
    "from sklearn.decomposition import PCA\n",
    "from scipy.stats import multivariate_normal"
   ]
  },
  {
   "cell_type": "markdown",
   "metadata": {},
   "source": [
    "## Importing iris dataset"
   ]
  },
  {
   "cell_type": "code",
   "execution_count": 152,
   "metadata": {
    "collapsed": false
   },
   "outputs": [
    {
     "name": "stdout",
     "output_type": "stream",
     "text": [
      "--2016-03-13 16:00:48--  https://archive.ics.uci.edu/ml/machine-learning-databases/iris/iris.data\n",
      "Resolving archive.ics.uci.edu (archive.ics.uci.edu)... 128.195.10.249\n",
      "Connecting to archive.ics.uci.edu (archive.ics.uci.edu)|128.195.10.249|:443... connected.\n",
      "HTTP request sent, awaiting response... 200 OK\n",
      "Length: 4551 (4.4K) [text/plain]\n",
      "Saving to: `iris.txt'\n",
      "\n",
      "100%[======================================>] 4,551       --.-K/s   in 0.05s   \n",
      "\n",
      "2016-03-13 16:00:48 (91.7 KB/s) - `iris.txt' saved [4551/4551]\n",
      "\n"
     ]
    }
   ],
   "source": [
    "!wget https://archive.ics.uci.edu/ml/machine-learning-databases/iris/iris.data -O iris.txt"
   ]
  },
  {
   "cell_type": "markdown",
   "metadata": {},
   "source": [
    "## (a) Read Data and Perform PCA  to 2 components"
   ]
  },
  {
   "cell_type": "code",
   "execution_count": 153,
   "metadata": {
    "collapsed": false
   },
   "outputs": [
    {
     "data": {
      "text/html": [
       "<div>\n",
       "<table border=\"1\" class=\"dataframe\">\n",
       "  <thead>\n",
       "    <tr style=\"text-align: right;\">\n",
       "      <th></th>\n",
       "      <th>sepal_len</th>\n",
       "      <th>sepal_wid</th>\n",
       "      <th>petal_len</th>\n",
       "      <th>petal wid</th>\n",
       "      <th>class</th>\n",
       "      <th>P1</th>\n",
       "      <th>P2</th>\n",
       "    </tr>\n",
       "  </thead>\n",
       "  <tbody>\n",
       "    <tr>\n",
       "      <th>0</th>\n",
       "      <td>5.1</td>\n",
       "      <td>3.5</td>\n",
       "      <td>1.4</td>\n",
       "      <td>0.2</td>\n",
       "      <td>Iris-setosa</td>\n",
       "      <td>-2.684207</td>\n",
       "      <td>-0.326607</td>\n",
       "    </tr>\n",
       "    <tr>\n",
       "      <th>1</th>\n",
       "      <td>4.9</td>\n",
       "      <td>3.0</td>\n",
       "      <td>1.4</td>\n",
       "      <td>0.2</td>\n",
       "      <td>Iris-setosa</td>\n",
       "      <td>-2.715391</td>\n",
       "      <td>0.169557</td>\n",
       "    </tr>\n",
       "    <tr>\n",
       "      <th>2</th>\n",
       "      <td>4.7</td>\n",
       "      <td>3.2</td>\n",
       "      <td>1.3</td>\n",
       "      <td>0.2</td>\n",
       "      <td>Iris-setosa</td>\n",
       "      <td>-2.889820</td>\n",
       "      <td>0.137346</td>\n",
       "    </tr>\n",
       "    <tr>\n",
       "      <th>3</th>\n",
       "      <td>4.6</td>\n",
       "      <td>3.1</td>\n",
       "      <td>1.5</td>\n",
       "      <td>0.2</td>\n",
       "      <td>Iris-setosa</td>\n",
       "      <td>-2.746437</td>\n",
       "      <td>0.311124</td>\n",
       "    </tr>\n",
       "    <tr>\n",
       "      <th>4</th>\n",
       "      <td>5.0</td>\n",
       "      <td>3.6</td>\n",
       "      <td>1.4</td>\n",
       "      <td>0.2</td>\n",
       "      <td>Iris-setosa</td>\n",
       "      <td>-2.728593</td>\n",
       "      <td>-0.333925</td>\n",
       "    </tr>\n",
       "  </tbody>\n",
       "</table>\n",
       "</div>"
      ],
      "text/plain": [
       "   sepal_len  sepal_wid  petal_len  petal wid        class        P1        P2\n",
       "0        5.1        3.5        1.4        0.2  Iris-setosa -2.684207 -0.326607\n",
       "1        4.9        3.0        1.4        0.2  Iris-setosa -2.715391  0.169557\n",
       "2        4.7        3.2        1.3        0.2  Iris-setosa -2.889820  0.137346\n",
       "3        4.6        3.1        1.5        0.2  Iris-setosa -2.746437  0.311124\n",
       "4        5.0        3.6        1.4        0.2  Iris-setosa -2.728593 -0.333925"
      ]
     },
     "execution_count": 153,
     "metadata": {},
     "output_type": "execute_result"
    }
   ],
   "source": [
    "df = pd.read_csv('iris.txt', names=['sepal_len','sepal_wid','petal_len','petal wid','class'])\n",
    "pca = PCA(n_components = 2)\n",
    "pca.fit(df.ix[:,0:4].values)\n",
    "X = pca.transform(df.ix[:,0:4].values)\n",
    "df['P1'] = X[:,0]\n",
    "df['P2'] = X[:,1]\n",
    "df.head()"
   ]
  },
  {
   "cell_type": "code",
   "execution_count": 154,
   "metadata": {
    "collapsed": false
   },
   "outputs": [
    {
     "data": {
      "image/png": "[encoded data removed]",
      "text/plain": [
       "<matplotlib.figure.Figure at 0x7fa6bc0f03d0>"
      ]
     },
     "metadata": {},
     "output_type": "display_data"
    }
   ],
   "source": [
    "classes = df['class'].unique()\n",
    "colors = [(0,.8,1),'y',(0,.7, .1)]\n",
    "plt.figure(figsize = (8,8))\n",
    "plt.xlabel('P1', fontsize = 15)\n",
    "plt.ylabel('P2', fontsize = 15)\n",
    "plt.title('2 component PCA', fontsize = 20)\n",
    "for cl, color in zip(classes,colors):\n",
    "    P1 = df[df['class'] == cl]['P1'].values\n",
    "    P2 = df[df['class'] == cl]['P2'].values\n",
    "    plt.scatter(P2, P1, c = color, s = 50)\n",
    "plt.legend(classes)\n",
    "plt.grid()"
   ]
  },
  {
   "cell_type": "markdown",
   "metadata": {},
   "source": [
    "The three classes appear to be well separated! \n",
    "\n",
    "iris-virginica and iris-versicolor could be better separated, but it is good!"
   ]
  },
  {
   "cell_type": "markdown",
   "metadata": {},
   "source": [
    "## (b) Train with Multivariate Gaussian Classifier"
   ]
  },
  {
   "cell_type": "code",
   "execution_count": 155,
   "metadata": {
    "collapsed": false
   },
   "outputs": [],
   "source": [
    "#training dataset\n",
    "df_train = df[df['class'] == classes[0]][0:35]\n",
    "for c in classes[1::]:\n",
    "    df_train = pd.concat([df_train, df[df['class'] == c][0:35]])\n",
    "\n",
    "#test dataset\n",
    "df_test = df[df['class'] == classes[0]][35::]\n",
    "for c in classes[1::]:\n",
    "    df_test = pd.concat([df_test, df[df['class'] == c][35::]])"
   ]
  },
  {
   "cell_type": "code",
   "execution_count": 156,
   "metadata": {
    "collapsed": false
   },
   "outputs": [],
   "source": [
    "def classify(sample_df, valid_df):\n",
    "\n",
    "    prob = []\n",
    "\n",
    "    #Find probability of each classifier\n",
    "    for i in xrange(3): \n",
    "        cond = sample_df['class'] == classes[i]\n",
    "        mean = np.mean(sample_df[cond].ix[:,0:4].values, axis = 0)\n",
    "        cov = np.cov(np.transpose(sample_df[cond].ix[:,0:4].values))\n",
    "        func = multivariate_normal(mean=mean, cov=cov)\n",
    "        prob.append(func.logpdf(valid_df.ix[:,0:4]))\n",
    "\n",
    "    #Take the max pdf\n",
    "    max_prob = np.argmax(prob, axis = 0)\n",
    "    tf_number_error = [classes[i] != j for i,j in zip(max_prob, valid_df['class'])]\n",
    "    #Compare with valid target to get error\n",
    "    error_percent = np.sum(tf_number_error)/len(valid_df)\n",
    "    return error_percent"
   ]
  },
  {
   "cell_type": "markdown",
   "metadata": {},
   "source": [
    "## Train the dataset"
   ]
  },
  {
   "cell_type": "code",
   "execution_count": 157,
   "metadata": {
    "collapsed": true
   },
   "outputs": [],
   "source": [
    "def find_error(sample_df, valid_df):\n",
    "\n",
    "    prob = []\n",
    "    label = []\n",
    "    flower = []\n",
    "\n",
    "    #Find probability of each classifier\n",
    "    for i in xrange(3): \n",
    "        cond = sample_df['class'] == classes[i]\n",
    "        mean = np.mean(sample_df[cond].ix[:,0:4].values, axis = 0)\n",
    "        cov = np.cov(np.transpose(sample_df[cond].ix[:,0:4].values))\n",
    "        func = multivariate_normal(mean, cov)\n",
    "        prob.append(func.logpdf(valid_df.ix[:,0:4]))\n",
    "\n",
    "    #Take the max pdf\n",
    "    max_prob = np.argmax(prob, axis = 0)\n",
    "    #Compare with valid target to get error\n",
    "    \n",
    "    prob = np.matrix(prob)\n",
    "    for i,j,k in zip(max_prob, valid_df['class'], range(len(valid_df))):\n",
    "        if  classes[i] != j:\n",
    "            flower.append(j)\n",
    "            label.append(classes[i])\n",
    "    return [flower, label]"
   ]
  },
  {
   "cell_type": "code",
   "execution_count": 158,
   "metadata": {
    "collapsed": false
   },
   "outputs": [],
   "source": [
    "#Get values\n",
    "[flower, label] = find_error(df_train, df_train)"
   ]
  },
  {
   "cell_type": "code",
   "execution_count": 159,
   "metadata": {
    "collapsed": false
   },
   "outputs": [
    {
     "data": {
      "text/html": [
       "<div>\n",
       "<table border=\"1\" class=\"dataframe\">\n",
       "  <thead>\n",
       "    <tr style=\"text-align: right;\">\n",
       "      <th></th>\n",
       "      <th>flower</th>\n",
       "      <th>prediction</th>\n",
       "    </tr>\n",
       "  </thead>\n",
       "  <tbody>\n",
       "    <tr>\n",
       "      <th>0</th>\n",
       "      <td>Iris-versicolor</td>\n",
       "      <td>Iris-virginica</td>\n",
       "    </tr>\n",
       "    <tr>\n",
       "      <th>1</th>\n",
       "      <td>Iris-virginica</td>\n",
       "      <td>Iris-versicolor</td>\n",
       "    </tr>\n",
       "  </tbody>\n",
       "</table>\n",
       "</div>"
      ],
      "text/plain": [
       "            flower       prediction\n",
       "0  Iris-versicolor   Iris-virginica\n",
       "1   Iris-virginica  Iris-versicolor"
      ]
     },
     "execution_count": 159,
     "metadata": {},
     "output_type": "execute_result"
    }
   ],
   "source": [
    "#Create dataframe of flowers and predictions\n",
    "error_df1 = pd.DataFrame({'prediction': label, 'flower': flower})\n",
    "error_df1.head()"
   ]
  },
  {
   "cell_type": "markdown",
   "metadata": {},
   "source": [
    "## Test Dataset"
   ]
  },
  {
   "cell_type": "code",
   "execution_count": 160,
   "metadata": {
    "collapsed": false
   },
   "outputs": [
    {
     "name": "stdout",
     "output_type": "stream",
     "text": [
      "('Error:', 0)\n"
     ]
    }
   ],
   "source": [
    "error_percent = classify(df_train, df_test)\n",
    "\n",
    "print('Error:',error_percent)"
   ]
  },
  {
   "cell_type": "markdown",
   "metadata": {},
   "source": [
    "100% accuracy with 0 percent error on testdata. "
   ]
  },
  {
   "cell_type": "code",
   "execution_count": null,
   "metadata": {
    "collapsed": true
   },
   "outputs": [],
   "source": []
  }
 ],
 "metadata": {
  "kernelspec": {
   "display_name": "Python 2",
   "language": "python",
   "name": "python2"
  },
  "language_info": {
   "codemirror_mode": {
    "name": "ipython",
    "version": 2
   },
   "file_extension": ".py",
   "mimetype": "text/x-python",
   "name": "python",
   "nbconvert_exporter": "python",
   "pygments_lexer": "ipython2",
   "version": "2.7.11"
  }
 },
 "nbformat": 4,
 "nbformat_minor": 0
}
