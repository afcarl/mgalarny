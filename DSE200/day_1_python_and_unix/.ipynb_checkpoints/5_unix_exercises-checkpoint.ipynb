{
 "cells": [
  {
   "cell_type": "markdown",
   "metadata": {},
   "source": [
    "### Excercise 1: reconstruct a file from segments."
   ]
  },
  {
   "cell_type": "markdown",
   "metadata": {},
   "source": [
    "Each of the files F* is a short segment of the original text file.\n",
    "\n",
    "The format of the file is `(n1: 5 char int),(n2: 5 char int),string`\n",
    "The string represents the content of the file in the range `[n1:n2]`\n",
    "\n",
    "Your task is to reconstruct the original file."
   ]
  },
  {
   "cell_type": "code",
   "execution_count": 8,
   "metadata": {
    "collapsed": false
   },
   "outputs": [
    {
     "name": "stdout",
     "output_type": "stream",
     "text": [
      "/Users/mgalarny/Documents/UCSD_Data_Science/mgalarny/DSE200/day_1_python_and_unix\r\n"
     ]
    }
   ],
   "source": [
    "!pwd"
   ]
  },
  {
   "cell_type": "code",
   "execution_count": 1,
   "metadata": {
    "collapsed": false
   },
   "outputs": [
    {
     "name": "stdout",
     "output_type": "stream",
     "text": [
      "/Users/mgalarny/Documents/UCSD_Data_Science/mgalarny/DSE200/data/NLTK/Chopped\n",
      "Caesar        F140          F185          F229          F60\r\n",
      "F0            F141          F186          F23           F61\r\n",
      "F1            F142          F187          F230          F62\r\n",
      "F10           F144          F189          F231          F63\r\n",
      "F100          F145          F19           F232          F64\r\n",
      "F101          F146          F190          F233          F65\r\n",
      "F102          F147          F191          F24           F66\r\n",
      "F104          F148          F192          F25           F67\r\n",
      "F106          F149          F193          F26           F68\r\n",
      "F107          F15           F194          F27           F69\r\n",
      "F108          F151          F195          F28           F7\r\n",
      "F109          F152          F196          F29           F70\r\n",
      "F11           F153          F197          F3            F71\r\n",
      "F110          F154          F198          F30           F72\r\n",
      "F111          F155          F199          F31           F73\r\n",
      "F112          F156          F2            F32           F74\r\n",
      "F113          F157          F20           F33           F75\r\n",
      "F114          F158          F200          F34           F76\r\n",
      "F115          F159          F201          F35           F77\r\n",
      "F117          F16           F202          F36           F78\r\n",
      "F118          F160          F204          F37           F79\r\n",
      "F119          F161          F205          F38           F8\r\n",
      "F12           F162          F206          F39           F80\r\n",
      "F120          F163          F207          F4            F81\r\n",
      "F121          F164          F208          F40           F82\r\n",
      "F122          F165          F209          F41           F83\r\n",
      "F123          F166          F210          F42           F84\r\n",
      "F124          F167          F211          F43           F85\r\n",
      "F125          F168          F212          F44           F86\r\n",
      "F126          F169          F213          F45           F87\r\n",
      "F127          F170          F214          F46           F88\r\n",
      "F128          F171          F215          F48           F9\r\n",
      "F129          F172          F216          F49           F90\r\n",
      "F13           F173          F218          F5            F91\r\n",
      "F130          F174          F219          F50           F93\r\n",
      "F131          F175          F22           F51           F94\r\n",
      "F132          F176          F220          F52           F95\r\n",
      "F133          F177          F221          F53           F96\r\n",
      "F134          F178          F222          F54           F97\r\n",
      "F135          F179          F223          F55           F99\r\n",
      "F136          F18           F224          F56           Leonidas\r\n",
      "F137          F180          F225          F57           kings\r\n",
      "F138          F181          F226          F58           num1\r\n",
      "F139          F182          F227          F59           \u001b[34msubDirectory\u001b[m\u001b[m/\r\n",
      "F14           F183          F228          F6\r\n"
     ]
    }
   ],
   "source": [
    "# /Users/mgalarny/Documents/UCSD_Data_Science/mgalarny/DSE200/data/NLTK/Chopped\n",
    "loc = '/Users/mgalarny/Documents/UCSD_Data_Science/mgalarny/DSE200/data/NLTK/Chopped'\n",
    "%cd $loc\n",
    "!ls -F"
   ]
  },
  {
   "cell_type": "code",
   "execution_count": 2,
   "metadata": {
    "collapsed": false
   },
   "outputs": [
    {
     "name": "stdout",
     "output_type": "stream",
     "text": [
      "The Fulton County Grand Jury said Friday an investigation of Atlantas recent primary election produced no evidence that any irregularities took place. The jury further said in term-end presentments that the City Executive Committee, which had over-all charge of the election, deserves the praise and thanks of the City of Atlanta for the manner in which the election was conducted. The September-October term jury had been charged by Fulton Superior Court Judge Durwood Pye to investigate reports of possible irregularities in the hard-fought primary which was won by Mayor-nominate Ivan Allen Jr. Only a relative handful of such reports was received, the jury said, considering the widespread interest in the election, the number of voters and the size of this city. The jury said it did find that many of Georgias registration and election laws are outmoded or inadequate and often ambiguous. It recommended that Fulton legislators act to have these laws studied and revised to the end of modernizing and improving them. The grand jury commented on a number of other topics, among them the Atlanta and Fulton County purchasing departments which it said are well operated and follow generally accepted practices which inure to the best interest of both governments. Merger proposed However, the jury said it believes these two offices should be combined to achieve greater efficiency and reduce the cost of administration. The City Purchasing Department, the jury said, is lacking in experienced clerical personnel as a result of city personnel policies.\n"
     ]
    }
   ],
   "source": [
    "import re\n",
    "!cat F* > num1 \n",
    "\n",
    "total_para = []\n",
    "doc = open('num1')\n",
    "#for line in doc:\n",
    "           #dostuff(line)\n",
    "for line in doc:\n",
    "    total_para.append((int(line[0:5]), int(line[5:10]), line[10:-1]))\n",
    "total_para = sorted(total_para)\n",
    "new_para = ''\n",
    "for i in total_para:\n",
    "    new_para += i[2]\n",
    "\n",
    "new_para = re.sub(\"'|`\", \"\", new_para)\n",
    "new_para = re.sub(\"\\s\\s+\", \" \", new_para)\n",
    "new_para = re.sub(\"\\s,\", \",\", new_para)\n",
    "new_para = re.sub(\"\\s\\.|\\.{2}\", \".\", new_para)\n",
    "new_para = re.sub(\"\\.{2}\", \".\", new_para)\n",
    "print new_para"
   ]
  },
  {
   "cell_type": "markdown",
   "metadata": {},
   "source": [
    "### Excercise 2:"
   ]
  },
  {
   "cell_type": "code",
   "execution_count": 11,
   "metadata": {
    "collapsed": false
   },
   "outputs": [],
   "source": [
    "#Issue a UNIX command to create a file called Caesar that contains the following lines (include the mistakes!!)\n",
    "\n",
    "Text = \"\"\"'Caesar, a great general, is petitioned by several citizens to show clemency to one of his enemies.\n",
    "He declines, pompously speaking of himself in the third person. The group of conspirators then proceeds to stab him.\n",
    "With his dying breath he gasps, \"Et tu, Brute? (\"And you, Brutus?\") Thus falls Caesar.\" \n",
    "The conspirators exult, and Shakespeare inserts a self-referential joke as Cassius says, \n",
    "\"How many ages hence shall this our lofty scene be acted over in states unborn and accents yet unknown!\"\n",
    "'\"\"\"\n",
    "!printf $Text > Caesar.txt\n",
    "#!chmod 666 Caesar\n",
    "#!file Caesar\n",
    "#!grep -cv [aeiou] Caesar.txt             \n",
    "#!cp Caesar.txt Leonidas.txt                       \n",
    "#!sed -i 's/Caesar/Leonidas/g' Leonidas     \n",
    "#!sed -i '1d;$d' Leonidas"
   ]
  },
  {
   "cell_type": "markdown",
   "metadata": {},
   "source": [
    "### Excercise 3:"
   ]
  },
  {
   "cell_type": "code",
   "execution_count": 1,
   "metadata": {
    "collapsed": false
   },
   "outputs": [
    {
     "name": "stdout",
     "output_type": "stream",
     "text": [
      "       5 Caesar\n",
      "Caesar           Exercise_3_7.csv LockFile.md\n"
     ]
    }
   ],
   "source": [
    "#What is the command to count lines,words and characters in a file and how do you make this comand display only linecount?\n",
    "#Also write a single command that lists the files in the current directory that begin with upper case letters\n",
    "\n",
    "!wc -l Caesar         # -l is lines\n",
    "!ls -d [A-Z]*      #lists files with uppercase"
   ]
  },
  {
   "cell_type": "markdown",
   "metadata": {},
   "source": [
    "### Excercise 4:"
   ]
  },
  {
   "cell_type": "code",
   "execution_count": 12,
   "metadata": {
    "collapsed": false
   },
   "outputs": [
    {
     "name": "stdout",
     "output_type": "stream",
     "text": [
      "\u001b[?1h\u001b=Caesar, a great general, is petitioned by several citizens to show clemency to one of his enemies.\n",
      "He declines, pompously speaking of himself in the third person. The group of conspirators then proceeds to stab him.\n",
      "With his dying breath he gasps, \"Et tu, Brute? (\"And you, Brutus?\") Thus falls Caesar.\" \n",
      "The conspirators exult, and Shakespeare inserts a self-referential joke as Cassius says, \n",
      "\"How many ages hence shall this our lofty scene be acted over in states unborn and accents yet unknown!\"\n",
      "Caesar, a great general, is petitioned by several citizens to show clemency to one of his enemies.\n",
      "He declines, pompously speaking of himself in the third person. The group of conspirators then proceeds to stab him.\n",
      "With his dying breath he gasps, \"Et tu, Brute? (\"And you, Brutus?\") Thus falls Caesar.\" \n",
      "The conspirators exult, and Shakespeare inserts a self-referential joke as Cassius says, \n",
      "\"How many ages hence shall this our lofty scene be acted over in states unborn and accents yet unknown!\"\n",
      "\u001b[K\u001b[?1l\u001b>\u001b[?1h\u001b=With his dying breath he gasps, \"Et tu, Brute? (\"And you, Brutus?\") Thus falls Caesar.\" \n",
      "With his dying breath he gasps, \"Et tu, Brute? (\"And you, Brutus?\") Thus falls Caesar.\" \n",
      "The conspirators exult, and Shakespeare inserts a self-referential joke as Cassius says, \n",
      "The conspirators exult, and Shakespeare inserts a self-referential joke as Cassius says, \n",
      "He declines, pompously speaking of himself in the third person. The group of conspirators then proceeds to stab him.\n",
      "He declines, pompously speaking of himself in the third person. The group of conspirators then proceeds to stab him.\n",
      "Caesar, a great general, is petitioned by several citizens to show clemency to one of his enemies.\n",
      "Caesar, a great general, is petitioned by several citizens to show clemency to one of his enemies.\n",
      "\"How many ages hence shall this our lofty scene be acted over in states unborn and accents yet unknown!\"\n",
      "\"How many ages hence shall this our lofty scene be acted over in states unborn and accents yet unknown!\"\n",
      "\u001b[K\u001b[?1l\u001b>"
     ]
    }
   ],
   "source": [
    "#Combine the files Caesar and Leonidas and save the combined file as kings\n",
    "#Display the contents of this file using more command\n",
    "#Sort this file in reverse alphabetic order and display it by piping it into more\n",
    "\n",
    "!cat Caesar Leonidas > kings\n",
    "!more kings\n",
    "!sort -r kings | more  "
   ]
  },
  {
   "cell_type": "markdown",
   "metadata": {},
   "source": [
    "### Excercise 5:"
   ]
  },
  {
   "cell_type": "code",
   "execution_count": 14,
   "metadata": {
    "collapsed": false
   },
   "outputs": [
    {
     "name": "stdout",
     "output_type": "stream",
     "text": [
      "[Errno 2] No such file or directory: '../data/NLTK/Chopped/'\n",
      "/Users/mgalarny/Documents/UCSD_Data_Science/mgalarny/DSE200/data/NLTK/Chopped/subDirectory\n",
      "[Errno 2] No such file or directory: '$loc'\n",
      "/Users/mgalarny/Documents/UCSD_Data_Science/mgalarny/DSE200/data/NLTK/Chopped/subDirectory\n",
      "/Users/mgalarny/Documents/UCSD_Data_Science/mgalarny/DSE200/data/NLTK/Chopped/subDirectory\n",
      "cp: subDirectory is a directory (not copied).\n",
      "/Users/mgalarny/Documents/UCSD_Data_Science/mgalarny/DSE200/data/NLTK/Chopped/subDirectory/subDirectory\n",
      "date: illegal time format\n",
      "usage: date [-jnu] [-d dst] [-r seconds] [-t west] [-v[+|-]val[ymwdHMS]] ... \n",
      "            [-f fmt date | [[[mm]dd]HH]MM[[cc]yy][.ss]] [+format]\n",
      "__Caesar   __F160     __F224     __F74      ____F135   ____F199   ____F50\n",
      "__F0       __F161     __F225     __F75      ____F136   ____F2     ____F51\n",
      "__F1       __F162     __F226     __F76      ____F137   ____F20    ____F52\n",
      "__F10      __F163     __F227     __F77      ____F138   ____F200   ____F53\n",
      "__F100     __F164     __F228     __F78      ____F139   ____F201   ____F54\n",
      "__F101     __F165     __F229     __F79      ____F14    ____F202   ____F55\n",
      "__F102     __F166     __F23      __F8       ____F140   ____F204   ____F56\n",
      "__F104     __F167     __F230     __F80      ____F141   ____F205   ____F57\n",
      "__F106     __F168     __F231     __F81      ____F142   ____F206   ____F58\n",
      "__F107     __F169     __F232     __F82      ____F144   ____F207   ____F59\n",
      "__F108     __F170     __F233     __F83      ____F145   ____F208   ____F6\n",
      "__F109     __F171     __F24      __F84      ____F146   ____F209   ____F60\n",
      "__F11      __F172     __F25      __F85      ____F147   ____F210   ____F61\n",
      "__F110     __F173     __F26      __F86      ____F148   ____F211   ____F62\n",
      "__F111     __F174     __F27      __F87      ____F149   ____F212   ____F63\n",
      "__F112     __F175     __F28      __F88      ____F15    ____F213   ____F64\n",
      "__F113     __F176     __F29      __F9       ____F151   ____F214   ____F65\n",
      "__F114     __F177     __F3       __F90      ____F152   ____F215   ____F66\n",
      "__F115     __F178     __F30      __F91      ____F153   ____F216   ____F67\n",
      "__F117     __F179     __F31      __F93      ____F154   ____F218   ____F68\n",
      "__F118     __F18      __F32      __F94      ____F155   ____F219   ____F69\n",
      "__F119     __F180     __F33      __F95      ____F156   ____F22    ____F7\n",
      "__F12      __F181     __F34      __F96      ____F157   ____F220   ____F70\n",
      "__F120     __F182     __F35      __F97      ____F158   ____F221   ____F71\n",
      "__F121     __F183     __F36      __F99      ____F159   ____F222   ____F72\n",
      "__F122     __F185     __F37      __Leonidas ____F16    ____F223   ____F73\n",
      "__F123     __F186     __F38      ____Caesar ____F160   ____F224   ____F74\n",
      "__F124     __F187     __F39      ____F0     ____F161   ____F225   ____F75\n",
      "__F125     __F189     __F4       ____F1     ____F162   ____F226   ____F76\n",
      "__F126     __F19      __F40      ____F10    ____F163   ____F227   ____F77\n",
      "__F127     __F190     __F41      ____F100   ____F164   ____F228   ____F78\n",
      "__F128     __F191     __F42      ____F101   ____F165   ____F229   ____F79\n",
      "__F129     __F192     __F43      ____F102   ____F166   ____F23    ____F8\n",
      "__F13      __F193     __F44      ____F104   ____F167   ____F230   ____F80\n",
      "__F130     __F194     __F45      ____F106   ____F168   ____F231   ____F81\n",
      "__F131     __F195     __F46      ____F107   ____F169   ____F232   ____F82\n",
      "__F132     __F196     __F48      ____F108   ____F170   ____F233   ____F83\n",
      "__F133     __F197     __F49      ____F109   ____F171   ____F24    ____F84\n",
      "__F134     __F198     __F5       ____F11    ____F172   ____F25    ____F85\n",
      "__F135     __F199     __F50      ____F110   ____F173   ____F26    ____F86\n",
      "__F136     __F2       __F51      ____F111   ____F174   ____F27    ____F87\n",
      "__F137     __F20      __F52      ____F112   ____F175   ____F28    ____F88\n",
      "__F138     __F200     __F53      ____F113   ____F176   ____F29    ____F9\n",
      "__F139     __F201     __F54      ____F114   ____F177   ____F3     ____F90\n",
      "__F14      __F202     __F55      ____F115   ____F178   ____F30    ____F91\n",
      "__F140     __F204     __F56      ____F117   ____F179   ____F31    ____F93\n",
      "__F141     __F205     __F57      ____F118   ____F18    ____F32    ____F94\n",
      "__F142     __F206     __F58      ____F119   ____F180   ____F33    ____F95\n",
      "__F144     __F207     __F59      ____F12    ____F181   ____F34    ____F96\n",
      "__F145     __F208     __F6       ____F120   ____F182   ____F35    ____F97\n",
      "__F146     __F209     __F60      ____F121   ____F183   ____F36    ____F99\n",
      "__F147     __F210     __F61      ____F122   ____F185   ____F37    ____kings\n",
      "__F148     __F211     __F62      ____F123   ____F186   ____F38    ____num1\n",
      "__F149     __F212     __F63      ____F124   ____F187   ____F39    ___kings\n",
      "__F15      __F213     __F64      ____F125   ____F189   ____F4     ___num1\n",
      "__F151     __F214     __F65      ____F126   ____F19    ____F40    __kings\n",
      "__F152     __F215     __F66      ____F127   ____F190   ____F41    __num1\n",
      "__F153     __F216     __F67      ____F128   ____F191   ____F42    _kings\n",
      "__F154     __F218     __F68      ____F129   ____F192   ____F43    _num1\n",
      "__F155     __F219     __F69      ____F13    ____F193   ____F44\n",
      "__F156     __F22      __F7       ____F130   ____F194   ____F45\n",
      "__F157     __F220     __F70      ____F131   ____F195   ____F46\n",
      "__F158     __F221     __F71      ____F132   ____F196   ____F48\n",
      "__F159     __F222     __F72      ____F133   ____F197   ____F49\n",
      "__F16      __F223     __F73      ____F134   ____F198   ____F5\n"
     ]
    }
   ],
   "source": [
    "#List all files in your current directory. Make a subDirectory and copy all these files in the subdirectory.\n",
    "#Write Unix commands to rename all the files to the format - currentDate_originalname\n",
    "\n",
    "%cd ../data/NLTK/Chopped/\n",
    "%cd $loc\n",
    "!pwd\n",
    "!mkdir subDirectory\n",
    "!cp * subDirectory\n",
    "%cd subDirectory\n",
    "!sdate=$(date + %Y%m%d); for f in *;do mv $f $sdate'_'$f; done\n",
    "!ls"
   ]
  },
  {
   "cell_type": "markdown",
   "metadata": {},
   "source": [
    "### Excercise 6:"
   ]
  },
  {
   "cell_type": "code",
   "execution_count": 15,
   "metadata": {
    "collapsed": false
   },
   "outputs": [
    {
     "name": "stdout",
     "output_type": "stream",
     "text": [
      "\r\n",
      "/bin/sh: line 1: f95: command not found\r\n",
      "/bin/sh: line 2: f95: command not found\r\n",
      "/bin/sh: line 3: input: No such file or directory\r\n",
      "/bin/sh: line 4: CPU-time:: command not found\r\n",
      "/bin/sh: line 5: f95: command not found\r\n",
      "/bin/sh: line 6: f95: command not found\r\n",
      "/bin/sh: line 7: input: No such file or directory\r\n",
      "/bin/sh: line 8: CPU-time:: command not found\r\n",
      "/bin/sh: line 9: f95: command not found\r\n",
      "/bin/sh: line 10: f95: command not found\r\n",
      "/bin/sh: line 11: input: No such file or directory\r\n",
      "/bin/sh: line 12: CPU-time:: command not found\r\n",
      "/bin/sh: line 13: f95: command not found\r\n",
      "/bin/sh: line 14: f95: command not found\r\n",
      "/bin/sh: line 15: input: No such file or directory\r\n",
      "/bin/sh: line 16: CPU-time:: command not found\r\n",
      "/bin/sh: line 17: f95: command not found\r\n",
      "/bin/sh: line 18: f95: command not found\r\n",
      "/bin/sh: line 19: input: No such file or directory\r\n",
      "/bin/sh: line 20: CPU-time:: command not found\r\n",
      "/bin/sh: line 21: f95: command not found\r\n",
      "/bin/sh: line 22: f95: command not found\r\n",
      "/bin/sh: line 23: input: No such file or directory\r\n",
      "/bin/sh: line 24: CPU-time:: command not found\r\n",
      "/bin/sh: line 25: f95: command not found\r\n",
      "/bin/sh: line 26: f95: command not found\r\n",
      "/bin/sh: line 27: input: No such file or directory\r\n",
      "/bin/sh: line 28: CPU-time:: command not found\r\n",
      "/bin/sh: -c: line 29: syntax error near unexpected token `|'\r\n",
      "/bin/sh: -c: line 29: ` |grep 'CPU-time' > Hw1_Q1'\r\n"
     ]
    },
    {
     "ename": "IOError",
     "evalue": "[Errno 2] No such file or directory: 'Hw1_Q1'",
     "output_type": "error",
     "traceback": [
      "\u001b[0;31m---------------------------------------------------------------------------\u001b[0m",
      "\u001b[0;31mIOError\u001b[0m                                   Traceback (most recent call last)",
      "\u001b[0;32m<ipython-input-15-0e3f99436a8c>\u001b[0m in \u001b[0;36m<module>\u001b[0;34m()\u001b[0m\n\u001b[1;32m     45\u001b[0m \u001b[0mget_ipython\u001b[0m\u001b[0;34m(\u001b[0m\u001b[0;34m)\u001b[0m\u001b[0;34m.\u001b[0m\u001b[0msystem\u001b[0m\u001b[0;34m(\u001b[0m\u001b[0;34mu\"echo $output |grep 'CPU-time' > Hw1_Q1\"\u001b[0m\u001b[0;34m)\u001b[0m\u001b[0;34m\u001b[0m\u001b[0m\n\u001b[1;32m     46\u001b[0m \u001b[0;34m\u001b[0m\u001b[0m\n\u001b[0;32m---> 47\u001b[0;31m \u001b[0mdoc\u001b[0m \u001b[0;34m=\u001b[0m \u001b[0mopen\u001b[0m\u001b[0;34m(\u001b[0m\u001b[0;34m'Hw1_Q1'\u001b[0m\u001b[0;34m)\u001b[0m\u001b[0;34m\u001b[0m\u001b[0m\n\u001b[0m\u001b[1;32m     48\u001b[0m \u001b[0;34m\u001b[0m\u001b[0m\n\u001b[1;32m     49\u001b[0m \u001b[0mtime\u001b[0m \u001b[0;34m=\u001b[0m \u001b[0;34m[\u001b[0m\u001b[0;34m]\u001b[0m\u001b[0;34m\u001b[0m\u001b[0m\n",
      "\u001b[0;31mIOError\u001b[0m: [Errno 2] No such file or directory: 'Hw1_Q1'"
     ]
    }
   ],
   "source": [
    "#Suppose we have a script that performs numerous efficiency tests. \n",
    "#The output from the script contains lots of information, but our purpose now is to extract information\n",
    "#about the CPU time of each test and sort these CPU times. The output from the tests takes the following form:\n",
    "output = \"\"\"\n",
    "f95 -c -O0  versions/main_wIO.f F77WAVE.f\n",
    "f95 -o app  -static main_wIO.o F77WAVE.o   -lf2c\n",
    "app < input > tmp.out\n",
    "CPU-time: 255.97   f95 -O0 formatted I/O\n",
    "f95 -c -O1  versions/main_wIO.f F77WAVE.f\n",
    "f95 -o app  -static main_wIO.o F77WAVE.o   -lf2c\n",
    "app < input > tmp.out\n",
    "CPU-time: 252.47   f95 -O1 formatted I/O\n",
    "f95 -c -O2  versions/main_wIO.f F77WAVE.f\n",
    "f95 -o app  -static main_wIO.o F77WAVE.o   -lf2c\n",
    "app < input > tmp.out\n",
    "CPU-time: 252.40   f95 -O2 formatted I/O\n",
    "f95 -c -O3  versions/main_wIO.f F77WAVE.f\n",
    "f95 -o app  -static main_wIO.o F77WAVE.o   -lf2c\n",
    "app < input > tmp.out\n",
    "CPU-time: 255.28   f95 -O0 formatted I/O\n",
    "f95 -c -O4  versions/main_wIO.f F77WAVE.f\n",
    "f95 -o app  -static main_wIO.o F77WAVE.o   -lf2c\n",
    "app < input > tmp.out\n",
    "CPU-time: 251.43  f95 -O0 formatted I/O\n",
    "f95 -c -O5  versions/main_wIO.f F77WAVE.f\n",
    "f95 -o app  -static main_wIO.o F77WAVE.o   -lf2c\n",
    "app < input > tmp.out\n",
    "CPU-time: 255.90   f95 -O0 formatted I/O\n",
    "f95 -c -O6  versions/main_wIO.f F77WAVE.f\n",
    "f95 -o app  -static main_wIO.o F77WAVE.o   -lf2c\n",
    "app < input > tmp.out\n",
    "CPU-time: 252.15   f95 -O0 formatted I/O\n",
    "\"\"\"\n",
    "\n",
    "#First we need to extract the lines starting with CPU-time. \n",
    "#Then we need to sort the extracted lines with respect to the CPU time, which is the number appearing in the second column. \n",
    "#Write a script to accomplish this task. \n",
    "\n",
    "#Hint: Find the lines with CPU time results by using a string comparison of the first 7 characters \n",
    "#to detect the keyword CPU-time. Then write a tailored sort function for sorting two lines \n",
    "#(extract the CPU time from the second column in both lines and compare the CPU times as floating-point numbers). \n",
    "#A tailored sort function takes two arguments a and b, which hold two list elements. \n",
    "#The sort function returns -1 if a is less than b, 1 if a is greater than b, and 0 otherwise (a equals b).\n",
    "\n",
    "!echo $output |grep 'CPU-time' > Hw1_Q1\n",
    "\n",
    "doc = open('Hw1_Q1')\n",
    "\n",
    "time = []\n",
    "for line in doc:\n",
    "    time.append(float(line.split(' ')[1]))\n",
    "print time"
   ]
  },
  {
   "cell_type": "markdown",
   "metadata": {},
   "source": [
    "### Excercise 7:"
   ]
  },
  {
   "cell_type": "code",
   "execution_count": null,
   "metadata": {
    "collapsed": false
   },
   "outputs": [],
   "source": [
    "#Make a copy of your working directory along with its subdirectories and \n",
    "#write unix+python commands that traverses the copied working directory and its subdirectories (recursively) and returns a \n",
    "#list of all files that are larger than X Mb and that have not been accessed the last Y days, \n",
    "#where X and Y are passed as user inputs.\n",
    "#Include an option in this function that moves the files to a subdirectory trash under /tmp \n",
    "#(you need to create trash if it does not exist)."
   ]
  },
  {
   "cell_type": "code",
   "execution_count": null,
   "metadata": {
    "collapsed": false
   },
   "outputs": [],
   "source": [
    "#Make a copy of your working directory along with its subdirectories and \n",
    "#write unix+python commands that traverses the copied working directory and its subdirectories (recursively) and returns a \n",
    "#list of all files that are larger than X Mb and that have not been accessed the last Y days, \n",
    "#where X and Y are passed as user inputs.\n",
    "#Include an option in this function that moves the files to a subdirectory trash under /tmp \n",
    "#(you need to create trash if it does not exist).\n",
    "\n",
    "%cd $loc\n",
    "!find . \n",
    "\n",
    "def fileSearch(X,Y):\n",
    "    print '\\nFiles greater than '+str(X)+' Mb:\\n'\n",
    "    !find . -maxdepth 1 -type f -size +$X -print0 |xargs -0 ls -halt |head\n",
    "    print '\\nFiles accessed in '+str(Y)+' Days:\\n'\n",
    "    !find . -mtime -$Y -print"
   ]
  }
 ],
 "metadata": {
  "kernelspec": {
   "display_name": "Python 2",
   "language": "python",
   "name": "python2"
  },
  "language_info": {
   "codemirror_mode": {
    "name": "ipython",
    "version": 2
   },
   "file_extension": ".py",
   "mimetype": "text/x-python",
   "name": "python",
   "nbconvert_exporter": "python",
   "pygments_lexer": "ipython2",
   "version": "2.7.10"
  }
 },
 "nbformat": 4,
 "nbformat_minor": 0
}
