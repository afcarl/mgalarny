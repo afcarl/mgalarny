{
 "cells": [
  {
   "cell_type": "code",
   "execution_count": 1,
   "metadata": {
    "collapsed": false
   },
   "outputs": [],
   "source": [
    "import pandas as pd\n",
    "import numpy as np\n",
    "import matplotlib.pyplot as plt\n",
    "from sklearn import datasets, svm, metrics, ensemble, decomposition\n",
    "import random\n",
    "from IPython.display import Image\n",
    "%matplotlib inline"
   ]
  },
  {
   "cell_type": "markdown",
   "metadata": {},
   "source": [
    "###Lecture3_Exercises\n",
    "\n",
    "**Economics dataset analysis**\n",
    "\n",
    "The folder economics (~/DSE200/DSE200/data/economics/) has a set of small datasets corresponding to different economics topics. We will use Pandas to incorporate these datasets into our workflow, merge them and analyze the economic trends as a function of time.\n",
    "\n",
    "To achieve this, do the following\n",
    "\n",
    "1. Read each of the csv files iteratively\n",
    "2. Merge all of the data into a single dataframe by building a dictionary where the keys are the codes and the values are the Series from each downloaded file\n",
    "3. Construct the Term and Default premia series using basic math on the series, and mmerge the resulting series using JOIN operation. HINT: term_premium = merged_data[’GS10’] - merged_data[’GS1’] and default_premium = merged_data[’BAA’] - merged_data[’AAA’]\n",
    "4. Process the data\n",
    "5. Plot ’GDP_growth’,’IP_growth’ and 'Unemp_rate' a a function of time and draw inferences\n",
    "6. Use pandas function scatter_matrix to generate scatter plots of ’GDP_growth’,’IP_growth’ and 'Unemp_rate' in a mmatrix form with kernel density plots along the diagonals.\n",
    "\n",
    "Note: Processing the data is of utmost importance for better readability and understanding of the data. Process the above data by ensuring the following\n",
    "\n",
    "1. dropping the rows with null values\n",
    "2. Output data regularly to see if they are following regular format. Use pandas.series.pct_change wherever necessary\n",
    "\n",
    "**The codes and their corresponding series representation**\n",
    "\n",
    "                            Series                   Code           Frequency\n",
    "                            Real GDP                 GDPC1          Quarterly\n",
    "                            Industrial Production   INDPRO          Quarterly\n",
    "                            Core CPI               CPILFESL         Monthly\n",
    "                            Unemployment Rate       UNRATE          Monthly\n",
    "                            10 Year Yield            GS10           Monthly\n",
    "                            1 Year Yield             GS1            Monthly\n",
    "                            Baa Yield                BAA            Monthly\n",
    "                            Aaa Yield                AAA            Monthly\n",
    "                                   \n"
   ]
  },
  {
   "cell_type": "code",
   "execution_count": 3,
   "metadata": {
    "collapsed": false
   },
   "outputs": [
    {
     "data": {
      "text/html": [
       "<div>\n",
       "<table border=\"1\" class=\"dataframe\">\n",
       "  <thead>\n",
       "    <tr style=\"text-align: right;\">\n",
       "      <th></th>\n",
       "      <th>AAA</th>\n",
       "      <th>BAA</th>\n",
       "      <th>CPILFESL</th>\n",
       "      <th>GDPC1</th>\n",
       "      <th>GS1</th>\n",
       "      <th>GS10</th>\n",
       "      <th>INDPRO</th>\n",
       "      <th>UNRATE</th>\n",
       "    </tr>\n",
       "    <tr>\n",
       "      <th>DATE</th>\n",
       "      <th></th>\n",
       "      <th></th>\n",
       "      <th></th>\n",
       "      <th></th>\n",
       "      <th></th>\n",
       "      <th></th>\n",
       "      <th></th>\n",
       "      <th></th>\n",
       "    </tr>\n",
       "  </thead>\n",
       "  <tbody>\n",
       "    <tr>\n",
       "      <th>1919-01-01</th>\n",
       "      <td>5.35</td>\n",
       "      <td>7.12</td>\n",
       "      <td>NaN</td>\n",
       "      <td>NaN</td>\n",
       "      <td>NaN</td>\n",
       "      <td>NaN</td>\n",
       "      <td>4.8582</td>\n",
       "      <td>NaN</td>\n",
       "    </tr>\n",
       "    <tr>\n",
       "      <th>1919-02-01</th>\n",
       "      <td>5.35</td>\n",
       "      <td>7.20</td>\n",
       "      <td>NaN</td>\n",
       "      <td>NaN</td>\n",
       "      <td>NaN</td>\n",
       "      <td>NaN</td>\n",
       "      <td>4.6435</td>\n",
       "      <td>NaN</td>\n",
       "    </tr>\n",
       "    <tr>\n",
       "      <th>1919-03-01</th>\n",
       "      <td>5.39</td>\n",
       "      <td>7.15</td>\n",
       "      <td>NaN</td>\n",
       "      <td>NaN</td>\n",
       "      <td>NaN</td>\n",
       "      <td>NaN</td>\n",
       "      <td>4.5092</td>\n",
       "      <td>NaN</td>\n",
       "    </tr>\n",
       "    <tr>\n",
       "      <th>1919-04-01</th>\n",
       "      <td>5.44</td>\n",
       "      <td>7.23</td>\n",
       "      <td>NaN</td>\n",
       "      <td>NaN</td>\n",
       "      <td>NaN</td>\n",
       "      <td>NaN</td>\n",
       "      <td>4.5898</td>\n",
       "      <td>NaN</td>\n",
       "    </tr>\n",
       "    <tr>\n",
       "      <th>1919-05-01</th>\n",
       "      <td>5.39</td>\n",
       "      <td>7.09</td>\n",
       "      <td>NaN</td>\n",
       "      <td>NaN</td>\n",
       "      <td>NaN</td>\n",
       "      <td>NaN</td>\n",
       "      <td>4.6166</td>\n",
       "      <td>NaN</td>\n",
       "    </tr>\n",
       "  </tbody>\n",
       "</table>\n",
       "</div>"
      ],
      "text/plain": [
       "             AAA   BAA  CPILFESL  GDPC1  GS1  GS10  INDPRO  UNRATE\n",
       "DATE                                                              \n",
       "1919-01-01  5.35  7.12       NaN    NaN  NaN   NaN  4.8582     NaN\n",
       "1919-02-01  5.35  7.20       NaN    NaN  NaN   NaN  4.6435     NaN\n",
       "1919-03-01  5.39  7.15       NaN    NaN  NaN   NaN  4.5092     NaN\n",
       "1919-04-01  5.44  7.23       NaN    NaN  NaN   NaN  4.5898     NaN\n",
       "1919-05-01  5.39  7.09       NaN    NaN  NaN   NaN  4.6166     NaN"
      ]
     },
     "execution_count": 3,
     "metadata": {},
     "output_type": "execute_result"
    }
   ],
   "source": [
    "try:\n",
    "    del merged_data\n",
    "except:\n",
    "    pass\n",
    "docs=['AAA','BAA','CPILFESL','GDPC1','GS1','GS10','INDPRO','UNRATE']\n",
    "for doc in docs:\n",
    "    data=open(r'/home/sadat/Documents/DSE/ssnazrul/DSE200/data/economics/'+doc+'.csv','r')\n",
    "    df=pd.read_csv(data)\n",
    "    df.rename(columns={'VALUE':doc}, inplace=True)\n",
    "    try:\n",
    "        merged_data=pd.merge(merged_data,df,how='outer', on=\"DATE\")\n",
    "    except:\n",
    "        merged_data=df\n",
    "    data.close()\n",
    "merged_data.set_index('DATE', inplace=True)\n",
    "merged_data.head()"
   ]
  },
  {
   "cell_type": "code",
   "execution_count": 77,
   "metadata": {
    "collapsed": false
   },
   "outputs": [
    {
     "data": {
      "text/html": [
       "<div>\n",
       "<table border=\"1\" class=\"dataframe\">\n",
       "  <thead>\n",
       "    <tr style=\"text-align: right;\">\n",
       "      <th></th>\n",
       "      <th>DATE</th>\n",
       "      <th>TERM PREMIUM</th>\n",
       "      <th>DEFAULT PREMIUM</th>\n",
       "    </tr>\n",
       "  </thead>\n",
       "  <tbody>\n",
       "    <tr>\n",
       "      <th>0</th>\n",
       "      <td>1919-01-01</td>\n",
       "      <td>NaN</td>\n",
       "      <td>-1.77</td>\n",
       "    </tr>\n",
       "    <tr>\n",
       "      <th>1</th>\n",
       "      <td>1919-02-01</td>\n",
       "      <td>NaN</td>\n",
       "      <td>-1.85</td>\n",
       "    </tr>\n",
       "    <tr>\n",
       "      <th>2</th>\n",
       "      <td>1919-03-01</td>\n",
       "      <td>NaN</td>\n",
       "      <td>-1.76</td>\n",
       "    </tr>\n",
       "    <tr>\n",
       "      <th>3</th>\n",
       "      <td>1919-04-01</td>\n",
       "      <td>NaN</td>\n",
       "      <td>-1.79</td>\n",
       "    </tr>\n",
       "    <tr>\n",
       "      <th>4</th>\n",
       "      <td>1919-05-01</td>\n",
       "      <td>NaN</td>\n",
       "      <td>-1.70</td>\n",
       "    </tr>\n",
       "  </tbody>\n",
       "</table>\n",
       "</div>"
      ],
      "text/plain": [
       "         DATE  TERM PREMIUM  DEFAULT PREMIUM\n",
       "0  1919-01-01           NaN            -1.77\n",
       "1  1919-02-01           NaN            -1.85\n",
       "2  1919-03-01           NaN            -1.76\n",
       "3  1919-04-01           NaN            -1.79\n",
       "4  1919-05-01           NaN            -1.70"
      ]
     },
     "execution_count": 77,
     "metadata": {},
     "output_type": "execute_result"
    }
   ],
   "source": [
    "term_premium=pd.Series(merged_data['GS10']-merged_data['GS1'], name='TERM PREMIUM')\n",
    "default_premium=pd.Series(merged_data['AAA']-merged_data['BAA'], name='DEFAULT PREMIUM')\n",
    "\n",
    "premium=pd.concat([term_premium,default_premium],axis=1).reset_index()\n",
    "\n",
    "premium.head()"
   ]
  },
  {
   "cell_type": "markdown",
   "metadata": {},
   "source": [
    "10 Year Yield and 1 Year Yield data were not collected before 1945 and hence produced NaN for Term Premium calculations for that period."
   ]
  },
  {
   "cell_type": "markdown",
   "metadata": {
    "collapsed": false
   },
   "source": [
    "GDP=merged_data['GDPC1'].dropna().pct_change().dropna()\n",
    "IP=merged_data['INDPRO'].dropna().pct_change().dropna()\n",
    "Unemp=merged_data['UNRATE'].dropna().pct_change().dropna()\n",
    "\n",
    "f=plt.figure(figsize=(15,5))\n",
    "GDP.plot()\n",
    "IP.plot()\n",
    "Unemp.plot()\n",
    "plt.legend(['GDPC1','INDPRO','UNRATE'])\n",
    "plt.title('Economics Data')\n",
    "plt.xlabel('DATE')\n",
    "plt.ylabel(r'Grownth Rate %')\n",
    "plt.grid()"
   ]
  },
  {
   "cell_type": "markdown",
   "metadata": {},
   "source": [
    "Analysis of plot:\n",
    "\n",
    "1. From the line plot, we can see some direct positive correlation between GPD rate and Industrial Production rate. However, more analysis needs to be done to make a more conclusive statment. \n",
    "2. There is no clear pattern for unemployment rate."
   ]
  },
  {
   "cell_type": "code",
   "execution_count": 48,
   "metadata": {
    "collapsed": false,
    "scrolled": false
   },
   "outputs": [
    {
     "data": {
      "text/plain": [
       "array([[<matplotlib.axes._subplots.AxesSubplot object at 0x7fbd24985990>,\n",
       "        <matplotlib.axes._subplots.AxesSubplot object at 0x7fbd2488d190>,\n",
       "        <matplotlib.axes._subplots.AxesSubplot object at 0x7fbd2480f650>],\n",
       "       [<matplotlib.axes._subplots.AxesSubplot object at 0x7fbd247f5350>,\n",
       "        <matplotlib.axes._subplots.AxesSubplot object at 0x7fbd24779150>,\n",
       "        <matplotlib.axes._subplots.AxesSubplot object at 0x7fbd24746ad0>],\n",
       "       [<matplotlib.axes._subplots.AxesSubplot object at 0x7fbd24655c10>,\n",
       "        <matplotlib.axes._subplots.AxesSubplot object at 0x7fbd245d9950>,\n",
       "        <matplotlib.axes._subplots.AxesSubplot object at 0x7fbd245c93d0>]], dtype=object)"
      ]
     },
     "execution_count": 48,
     "metadata": {},
     "output_type": "execute_result"
    },
    {
     "data": {
      "image/png": "[encoded data removed]",
      "text/plain": [
       "<matplotlib.figure.Figure at 0x7fbd24dfa850>"
      ]
     },
     "metadata": {},
     "output_type": "display_data"
    }
   ],
   "source": [
    "from pandas.tools.plotting import scatter_matrix\n",
    "\n",
    "Econ=pd.concat([GDP, IP, Unemp],axis=1).reset_index()\n",
    "scatter_matrix(Econ, alpha=0.2, figsize=(10,10), diagonal='kde')"
   ]
  },
  {
   "cell_type": "markdown",
   "metadata": {},
   "source": [
    "**Nutrition dataset analysis**\n",
    "\n",
    "Download the dataset from http://ashleyw.co.uk/files/foods-2011-10-03.json.zip\n",
    "This data set is a compilation of data provided by the US department of Agriculture. The data set contains data for 6,636 unique foods and 94 unique nutrients (with an average of 56.5 nutrients per food)\n",
    "\n",
    "Do the following\n",
    "\n",
    "Use the built in python json module to load the food data into a python list\n",
    "\n",
    "Your code should look like this\n",
    "\n",
    "> import json\n",
    "> db = json.load(open('foods-2011-10-03.json'))\n",
    "\n",
    "db will be a list of 6636 python dictionaries, each containing nutritional information for a different food item. Each dictionary will have the following keys:\n",
    "\n",
    "    1.portions\n",
    "    2.description\n",
    "    3.tags\n",
    "    4.nutrients\n",
    "    5.group\n",
    "    6.id\n",
    "    7.manufacture\n",
    "\n",
    "Now, create a DataFrame of meta_data using the description, group, id, and manufacturer items in each dictionary.\n",
    "\n",
    "Loop over db and construct a list of DataFrames containing the nutritional information for each record in db. Make sure to add a column to each of these DataFrames that contains the unique food id (id key in the dictionary)\n",
    "\n",
    "Finally, use the pandas combining techniques to create a nutrients DataFrame. After you have done this drop duplicate entries in this DataFrame. For example, if you had named the objects nuts you would do\n",
    "\n",
    "nuts = nuts.drop_duplicates()\n",
    "\n",
    "Use the rename method to make sure that the description and group columns are un-ambiguous for both the meta_data DataFrame and the nutrients DataFrame (These column names are duplicated because every food has a description and group and each nutrient also has those identifiers). \n",
    "\n",
    "Finally, use the data combining routines to come up with a foods DataFrame containing all the meta_data and nutritional information. Make sure to do an outer style merge on the correct columns.\n",
    "\n",
    "Using the foods DataFrame you have been building, compute the following things:\n",
    "\n",
    "1. The food item with the highest content of each nutrient.\n",
    "2. A function that accepts a nutrient name and a quantile value and generates a horizontal bar plot of the amount of that nutrient in each food group. Provide a plot title. HINT: You will need to use the quantile and sort (or order ) methods in order for this to work. "
   ]
  },
  {
   "cell_type": "markdown",
   "metadata": {},
   "source": [
    "####Creating Meta_Data"
   ]
  },
  {
   "cell_type": "code",
   "execution_count": 4,
   "metadata": {
    "collapsed": false
   },
   "outputs": [],
   "source": [
    "#!wget https://github.com/pydata/pydata-book/blob/master/ch07/foods-2011-10-03.json?raw=true"
   ]
  },
  {
   "cell_type": "code",
   "execution_count": 2,
   "metadata": {
    "collapsed": true
   },
   "outputs": [],
   "source": [
    "import json\n",
    "db = json.load(open('foods-2011-10-03.json'))"
   ]
  },
  {
   "cell_type": "code",
   "execution_count": 14,
   "metadata": {
    "collapsed": false
   },
   "outputs": [
    {
     "name": "stdout",
     "output_type": "stream",
     "text": [
      "meta_data ready!\n"
     ]
    }
   ],
   "source": [
    "try:\n",
    "    del meta_data\n",
    "except:\n",
    "    pass\n",
    "for index, dictionary in enumerate(db):\n",
    "    \n",
    "    #Print progress\n",
    "    print str(index)+' of '+str(len(db)),'\\r',\n",
    "    \n",
    "    #Convert dictionary to new DataFrame for meta_data\n",
    "    df=pd.DataFrame({'#':[0]})\n",
    "    df['description']=dictionary['description']\n",
    "    df['group']=dictionary['group']\n",
    "    df['id']=dictionary['id']\n",
    "    df['manufacturer']=dictionary['manufacturer']\n",
    "    del df['#']\n",
    "    try:\n",
    "        #If meta_data exists, merge with df\n",
    "        meta_data=pd.merge(meta_data,df, how='outer')\n",
    "    except:\n",
    "        #If meta_data doesnt exist, df is the new meta_data\n",
    "        meta_data=df\n",
    "        \n",
    "#Setting id as index\n",
    "meta_data.set_index('id', inplace=True)\n",
    "\n",
    "#Removing duplicates\n",
    "meta_data.drop_duplicates()\n",
    "\n",
    "print 'meta_data ready!'"
   ]
  },
  {
   "cell_type": "code",
   "execution_count": 16,
   "metadata": {
    "collapsed": false
   },
   "outputs": [
    {
     "name": "stdout",
     "output_type": "stream",
     "text": [
      "\n",
      "Final processed meta_data Data Frame:\n",
      "\n"
     ]
    },
    {
     "data": {
      "text/html": [
       "<div>\n",
       "<table border=\"1\" class=\"dataframe\">\n",
       "  <thead>\n",
       "    <tr style=\"text-align: right;\">\n",
       "      <th></th>\n",
       "      <th>description</th>\n",
       "      <th>group</th>\n",
       "      <th>manufacturer</th>\n",
       "    </tr>\n",
       "    <tr>\n",
       "      <th>id</th>\n",
       "      <th></th>\n",
       "      <th></th>\n",
       "      <th></th>\n",
       "    </tr>\n",
       "  </thead>\n",
       "  <tbody>\n",
       "    <tr>\n",
       "      <th>1008</th>\n",
       "      <td>Cheese, caraway</td>\n",
       "      <td>Dairy and Egg Products</td>\n",
       "      <td></td>\n",
       "    </tr>\n",
       "    <tr>\n",
       "      <th>1009</th>\n",
       "      <td>Cheese, cheddar</td>\n",
       "      <td>Dairy and Egg Products</td>\n",
       "      <td></td>\n",
       "    </tr>\n",
       "    <tr>\n",
       "      <th>1018</th>\n",
       "      <td>Cheese, edam</td>\n",
       "      <td>Dairy and Egg Products</td>\n",
       "      <td></td>\n",
       "    </tr>\n",
       "    <tr>\n",
       "      <th>1019</th>\n",
       "      <td>Cheese, feta</td>\n",
       "      <td>Dairy and Egg Products</td>\n",
       "      <td></td>\n",
       "    </tr>\n",
       "    <tr>\n",
       "      <th>1028</th>\n",
       "      <td>Cheese, mozzarella, part skim milk</td>\n",
       "      <td>Dairy and Egg Products</td>\n",
       "      <td></td>\n",
       "    </tr>\n",
       "  </tbody>\n",
       "</table>\n",
       "</div>"
      ],
      "text/plain": [
       "                             description                   group manufacturer\n",
       "id                                                                           \n",
       "1008                     Cheese, caraway  Dairy and Egg Products             \n",
       "1009                     Cheese, cheddar  Dairy and Egg Products             \n",
       "1018                        Cheese, edam  Dairy and Egg Products             \n",
       "1019                        Cheese, feta  Dairy and Egg Products             \n",
       "1028  Cheese, mozzarella, part skim milk  Dairy and Egg Products             "
      ]
     },
     "execution_count": 16,
     "metadata": {},
     "output_type": "execute_result"
    }
   ],
   "source": [
    "meta_data.index.name='id'\n",
    "print '\\nFinal processed meta_data Data Frame:\\n'\n",
    "meta_data.head()"
   ]
  },
  {
   "cell_type": "markdown",
   "metadata": {},
   "source": [
    "####Computing max nutrient contents"
   ]
  },
  {
   "cell_type": "code",
   "execution_count": 3,
   "metadata": {
    "collapsed": false,
    "scrolled": true
   },
   "outputs": [
    {
     "data": {
      "text/plain": [
       "{u'description': u'Protein',\n",
       " u'group': u'Composition',\n",
       " 'id': 1008,\n",
       " u'units': u'g',\n",
       " u'value': 25.18}"
      ]
     },
     "execution_count": 3,
     "metadata": {},
     "output_type": "execute_result"
    }
   ],
   "source": [
    "#Analyzing a sample dictionary in the nutrient column\n",
    "\n",
    "#Creating the food Data Frame from the original JSON file\n",
    "food=pd.DataFrame(db)\n",
    "food.set_index('id', inplace=True)\n",
    "for i in food.index.values:\n",
    "    for nutri in food['nutrients'][i]:\n",
    "        #Add the food id to each nutrient dictionary\n",
    "        nutri['id']=i\n",
    "\n",
    "#Print sample dictionary        \n",
    "food['nutrients'][1008][0]\n"
   ]
  },
  {
   "cell_type": "code",
   "execution_count": 5,
   "metadata": {
    "collapsed": false,
    "scrolled": true
   },
   "outputs": [
    {
     "name": "stdout",
     "output_type": "stream",
     "text": [
      "List of Dictionaries ready!\n",
      "\n",
      "First 10 elements of list:\n",
      "\n",
      "[{u'units': u'g', u'group': u'Composition', u'description': u'Protein', u'value': 25.18, 'id': 1008}, {u'units': u'g', u'group': u'Composition', u'description': u'Total lipid (fat)', u'value': 29.2, 'id': 1008}, {u'units': u'g', u'group': u'Composition', u'description': u'Carbohydrate, by difference', u'value': 3.06, 'id': 1008}, {u'units': u'g', u'group': u'Other', u'description': u'Ash', u'value': 3.28, 'id': 1008}, {u'units': u'kcal', u'group': u'Energy', u'description': u'Energy', u'value': 376.0, 'id': 1008}, {u'units': u'g', u'group': u'Composition', u'description': u'Water', u'value': 39.28, 'id': 1008}, {u'units': u'kJ', u'group': u'Energy', u'description': u'Energy', u'value': 1573.0, 'id': 1008}, {u'units': u'g', u'group': u'Composition', u'description': u'Fiber, total dietary', u'value': 0.0, 'id': 1008}, {u'units': u'mg', u'group': u'Elements', u'description': u'Calcium, Ca', u'value': 673.0, 'id': 1008}, {u'units': u'mg', u'group': u'Elements', u'description': u'Iron, Fe', u'value': 0.64, 'id': 1008}]\n"
     ]
    }
   ],
   "source": [
    "dict_list=[]\n",
    "for index, i in enumerate(food.index.values):\n",
    "    print str(index)+' of '+str(len(food.index.values)),'\\r',\n",
    "    for nutri in food['nutrients'][i]:\n",
    "        dict_list.append(nutri)\n",
    "print 'List of Dictionaries ready!\\n'\n",
    "print 'First 10 elements of list:\\n'\n",
    "print dict_list[0:10]"
   ]
  },
  {
   "cell_type": "code",
   "execution_count": 17,
   "metadata": {
    "collapsed": false
   },
   "outputs": [
    {
     "name": "stdout",
     "output_type": "stream",
     "text": [
      "List of attributes ready!\n",
      "\n",
      "First 10 elements of sample attribute, id:\n",
      "\n",
      "['1008', '1008', '1008', '1008', '1008', '1008', '1008', '1008', '1008', '1008']\n"
     ]
    }
   ],
   "source": [
    "num=[]\n",
    "description=[]\n",
    "group=[]\n",
    "i=[]\n",
    "units=[]\n",
    "value=[]\n",
    "for index, dictionary in enumerate(dict_list):\n",
    "    print str(index)+' of '+str(len(dict_list)),'\\r',\n",
    "    description.append(dictionary['description'])\n",
    "    group.append(dictionary['group'])\n",
    "    i.append(str(dictionary['id']))  #Convert to str to avoid math operations on id\n",
    "    units.append(dictionary['units'])\n",
    "    value.append(dictionary['value'])\n",
    "print 'List of attributes ready!\\n'\n",
    "print 'First 10 elements of sample attribute, id:\\n'\n",
    "print i[0:10]"
   ]
  },
  {
   "cell_type": "code",
   "execution_count": 9,
   "metadata": {
    "collapsed": false
   },
   "outputs": [
    {
     "name": "stdout",
     "output_type": "stream",
     "text": [
      "\n",
      "Data Frame of nutrients data:\n",
      "\n"
     ]
    },
    {
     "data": {
      "text/html": [
       "<div>\n",
       "<table border=\"1\" class=\"dataframe\">\n",
       "  <thead>\n",
       "    <tr style=\"text-align: right;\">\n",
       "      <th></th>\n",
       "      <th>description</th>\n",
       "      <th>group</th>\n",
       "      <th>id</th>\n",
       "      <th>units</th>\n",
       "      <th>value</th>\n",
       "    </tr>\n",
       "  </thead>\n",
       "  <tbody>\n",
       "    <tr>\n",
       "      <th>0</th>\n",
       "      <td>Protein</td>\n",
       "      <td>Composition</td>\n",
       "      <td>1008</td>\n",
       "      <td>g</td>\n",
       "      <td>25.18</td>\n",
       "    </tr>\n",
       "    <tr>\n",
       "      <th>1</th>\n",
       "      <td>Total lipid (fat)</td>\n",
       "      <td>Composition</td>\n",
       "      <td>1008</td>\n",
       "      <td>g</td>\n",
       "      <td>29.20</td>\n",
       "    </tr>\n",
       "    <tr>\n",
       "      <th>2</th>\n",
       "      <td>Carbohydrate, by difference</td>\n",
       "      <td>Composition</td>\n",
       "      <td>1008</td>\n",
       "      <td>g</td>\n",
       "      <td>3.06</td>\n",
       "    </tr>\n",
       "    <tr>\n",
       "      <th>3</th>\n",
       "      <td>Ash</td>\n",
       "      <td>Other</td>\n",
       "      <td>1008</td>\n",
       "      <td>g</td>\n",
       "      <td>3.28</td>\n",
       "    </tr>\n",
       "    <tr>\n",
       "      <th>4</th>\n",
       "      <td>Energy</td>\n",
       "      <td>Energy</td>\n",
       "      <td>1008</td>\n",
       "      <td>kcal</td>\n",
       "      <td>376.00</td>\n",
       "    </tr>\n",
       "  </tbody>\n",
       "</table>\n",
       "</div>"
      ],
      "text/plain": [
       "                   description        group    id units   value\n",
       "0                      Protein  Composition  1008     g   25.18\n",
       "1            Total lipid (fat)  Composition  1008     g   29.20\n",
       "2  Carbohydrate, by difference  Composition  1008     g    3.06\n",
       "3                          Ash        Other  1008     g    3.28\n",
       "4                       Energy       Energy  1008  kcal  376.00"
      ]
     },
     "execution_count": 9,
     "metadata": {},
     "output_type": "execute_result"
    }
   ],
   "source": [
    "nutrients={}\n",
    "nutrients['description']=description\n",
    "nutrients['group']=group\n",
    "nutrients['id']=i\n",
    "nutrients['units']=units\n",
    "nutrients['value']=value\n",
    "\n",
    "nutrients=pd.DataFrame(nutrients)\n",
    "print '\\nData Frame of nutrients data:\\n'\n",
    "nutrients.head()"
   ]
  },
  {
   "cell_type": "code",
   "execution_count": 27,
   "metadata": {
    "collapsed": false
   },
   "outputs": [
    {
     "name": "stdout",
     "output_type": "stream",
     "text": [
      "\n",
      "Final Data Frame with max value of each nutrient:\n",
      "\n"
     ]
    },
    {
     "data": {
      "text/html": [
       "<div>\n",
       "<table border=\"1\" class=\"dataframe\">\n",
       "  <thead>\n",
       "    <tr style=\"text-align: right;\">\n",
       "      <th></th>\n",
       "      <th>group</th>\n",
       "      <th>id</th>\n",
       "      <th>units</th>\n",
       "      <th>value</th>\n",
       "    </tr>\n",
       "    <tr>\n",
       "      <th>description</th>\n",
       "      <th></th>\n",
       "      <th></th>\n",
       "      <th></th>\n",
       "      <th></th>\n",
       "    </tr>\n",
       "  </thead>\n",
       "  <tbody>\n",
       "    <tr>\n",
       "      <th>Adjusted Protein</th>\n",
       "      <td>Composition</td>\n",
       "      <td>19078</td>\n",
       "      <td>g</td>\n",
       "      <td>12.900</td>\n",
       "    </tr>\n",
       "    <tr>\n",
       "      <th>Alanine</th>\n",
       "      <td>Amino Acids</td>\n",
       "      <td>9445</td>\n",
       "      <td>g</td>\n",
       "      <td>8.009</td>\n",
       "    </tr>\n",
       "    <tr>\n",
       "      <th>Alcohol, ethyl</th>\n",
       "      <td>Other</td>\n",
       "      <td>9444</td>\n",
       "      <td>g</td>\n",
       "      <td>42.500</td>\n",
       "    </tr>\n",
       "    <tr>\n",
       "      <th>Arginine</th>\n",
       "      <td>Amino Acids</td>\n",
       "      <td>9445</td>\n",
       "      <td>g</td>\n",
       "      <td>7.436</td>\n",
       "    </tr>\n",
       "    <tr>\n",
       "      <th>Ash</th>\n",
       "      <td>Other</td>\n",
       "      <td>9451</td>\n",
       "      <td>g</td>\n",
       "      <td>72.500</td>\n",
       "    </tr>\n",
       "  </tbody>\n",
       "</table>\n",
       "</div>"
      ],
      "text/plain": [
       "                        group     id units   value\n",
       "description                                       \n",
       "Adjusted Protein  Composition  19078     g  12.900\n",
       "Alanine           Amino Acids   9445     g   8.009\n",
       "Alcohol, ethyl          Other   9444     g  42.500\n",
       "Arginine          Amino Acids   9445     g   7.436\n",
       "Ash                     Other   9451     g  72.500"
      ]
     },
     "execution_count": 27,
     "metadata": {},
     "output_type": "execute_result"
    }
   ],
   "source": [
    "max_nut=nutrients.groupby(['description']).max()\n",
    "print '\\nFinal Data Frame with max value of each nutrient:\\n'\n",
    "max_nut.head()"
   ]
  },
  {
   "cell_type": "markdown",
   "metadata": {},
   "source": [
    "####Function for visualizing the quantile of each group for a given nutrient"
   ]
  },
  {
   "cell_type": "code",
   "execution_count": 74,
   "metadata": {
    "collapsed": false
   },
   "outputs": [],
   "source": [
    "def nutri_box(nutrient, quantile):\n",
    "    df=nutrients[nutrients['description']==str(nutrient)]\n",
    "    #return df\n",
    "    df=df.groupby(['group']).quantile(q=quantile)\n",
    "    df.plot(kind='barh')\n",
    "    plt.title(nutrient+' (quantile = '+str(quantile)+')')"
   ]
  },
  {
   "cell_type": "code",
   "execution_count": 75,
   "metadata": {
    "collapsed": false
   },
   "outputs": [
    {
     "name": "stdout",
     "output_type": "stream",
     "text": [
      "\n",
      "3 Sample plots with Quantile = 0.3\n"
     ]
    },
    {
     "data": {
      "image/png": "[encoded data removed]",
      "text/plain": [
       "<matplotlib.figure.Figure at 0x7f20315ed2d0>"
      ]
     },
     "metadata": {},
     "output_type": "display_data"
    },
    {
     "data": {
      "image/png": "[encoded data removed]",
      "text/plain": [
       "<matplotlib.figure.Figure at 0x7f2031311c10>"
      ]
     },
     "metadata": {},
     "output_type": "display_data"
    },
    {
     "data": {
      "image/png": "[encoded data removed]",
      "text/plain": [
       "<matplotlib.figure.Figure at 0x7f2030cb42d0>"
      ]
     },
     "metadata": {},
     "output_type": "display_data"
    }
   ],
   "source": [
    "print '\\n3 Sample plots with Quantile = 0.3'\n",
    "unique=nutrients['description'].unique()\n",
    "for i in unique[0:3]:\n",
    "    nutri_box(i,0.3)"
   ]
  },
  {
   "cell_type": "markdown",
   "metadata": {},
   "source": [
    "**Classifying Digits**\n",
    "SKLearn has many intereting datasets pre-loaded in it, one of which is load_digits (sklearn.datasets.load_digits - http://scikit-learn.org/stable/modules/generated/sklearn.datasets.load_digits.html). Load_digits is a dataset of digits, with each datapoint being a 8x8 image of a digit. \n",
    "\n",
    "You can load this dataset as follows"
   ]
  },
  {
   "cell_type": "code",
   "execution_count": 19,
   "metadata": {
    "collapsed": true
   },
   "outputs": [],
   "source": [
    "from sklearn.datasets import load_digits\n",
    "digits = load_digits()"
   ]
  },
  {
   "cell_type": "markdown",
   "metadata": {},
   "source": [
    "And the images can be visualized as follows"
   ]
  },
  {
   "cell_type": "code",
   "execution_count": 20,
   "metadata": {
    "collapsed": false
   },
   "outputs": [
    {
     "data": {
      "text/plain": [
       "<matplotlib.figure.Figure at 0x7f20316f3090>"
      ]
     },
     "metadata": {},
     "output_type": "display_data"
    },
    {
     "data": {
      "image/png": "[encoded data removed]",
      "text/plain": [
       "<matplotlib.figure.Figure at 0x7f20490d3310>"
      ]
     },
     "metadata": {},
     "output_type": "display_data"
    }
   ],
   "source": [
    "import pylab as pl \n",
    "pl.gray() \n",
    "pl.matshow(digits.images[0]) \n",
    "pl.show() "
   ]
  },
  {
   "cell_type": "markdown",
   "metadata": {},
   "source": [
    "1. Visualize the first 15 digits to get a better understanding of the data\n",
    "2. With x as data and y as target, classify the above datasets into individual targets using a decision tree\n",
    "3. Perform this classification task with sklearn.svm.SVC. How does the choice of kernel affect the results?\n",
    "4. Perform this classification task with sklearn.ensemble.RandomForestClassifier. Write in the markdown below the impact each of the parammeter had on the result\n",
    "\n",
    "\n",
    "\n",
    "        1. max_depth: \n",
    "        2. max_features:\n",
    "        3. n_estimators:\n",
    "\n",
    "\n",
    "\n",
    "Try a few sets of parameters for each model and check the F1 score (sklearn.metrics.f1_score) on your results. Output the best F1 score that you achieve. \n",
    "\n"
   ]
  },
  {
   "cell_type": "code",
   "execution_count": 21,
   "metadata": {
    "collapsed": false,
    "scrolled": true
   },
   "outputs": [
    {
     "data": {
      "image/png": "[encoded data removed]",
      "text/plain": [
       "<matplotlib.figure.Figure at 0x7f20316f3810>"
      ]
     },
     "metadata": {},
     "output_type": "display_data"
    }
   ],
   "source": [
    "#1. Visualize the first 15 digits to get a better understanding of the data\n",
    "\n",
    "images_and_labels = list(zip(digits.images, digits.target))\n",
    "plt.figure(figsize=(5,5))\n",
    "for index, (image, label) in enumerate(images_and_labels[:15]):\n",
    "    plt.subplot(3, 5, index + 1)\n",
    "    plt.axis('off')\n",
    "    plt.imshow(image, cmap=plt.cm.gray_r, interpolation='nearest')\n",
    "    plt.title('%i' % label)"
   ]
  },
  {
   "cell_type": "markdown",
   "metadata": {},
   "source": [
    "We can see different images of the digits 0-9."
   ]
  },
  {
   "cell_type": "code",
   "execution_count": 22,
   "metadata": {
    "collapsed": false
   },
   "outputs": [
    {
     "name": "stdout",
     "output_type": "stream",
     "text": [
      "Random Tree Classifier:\n",
      "\n",
      "Score\t0.877607788595\n"
     ]
    }
   ],
   "source": [
    "#2 With x as data and y as target, classify the above datasets into individual targets using a decision tree\n",
    "\n",
    "#Define variables\n",
    "n_samples = len(digits.images)\n",
    "x = digits.images.reshape((n_samples, -1))\n",
    "y = digits.target\n",
    "\n",
    "#Create random indices\n",
    "sample_index=random.sample(range(len(x)),len(x)/5)\n",
    "valid_index=[i for i in range(len(x)) if i not in sample_index]\n",
    "\n",
    "#Sample and validation images\n",
    "sample_images=[x[i] for i in sample_index]\n",
    "valid_images=[x[i] for i in valid_index]\n",
    "\n",
    "#Sample and validation targets\n",
    "sample_target=[y[i] for i in sample_index]\n",
    "valid_target=[y[i] for i in valid_index]\n",
    "\n",
    "#Using the Random Tree Classifier\n",
    "classifier = ensemble.RandomForestClassifier()\n",
    "\n",
    "#Fit model with sample data\n",
    "classifier.fit(sample_images, sample_target)\n",
    "\n",
    "#Attempt to predict validation data\n",
    "score=classifier.score(valid_images, valid_target)\n",
    "print 'Random Tree Classifier:\\n'\n",
    "print 'Score\\t'+str(score)"
   ]
  },
  {
   "cell_type": "code",
   "execution_count": 23,
   "metadata": {
    "collapsed": false
   },
   "outputs": [
    {
     "name": "stdout",
     "output_type": "stream",
     "text": [
      "C-Support Vector Classification:\n",
      "\n",
      "linear\t\t0.958970792768\n",
      "poly\t\t0.970792767733\n",
      "rbf\t\t0.970097357441\n",
      "sigmoid\t\t0.239916550765\n"
     ]
    }
   ],
   "source": [
    "#3 Perform this classification task with sklearn.svm.SVC. How does the choice of kernel affect the results?\n",
    "\n",
    "print 'C-Support Vector Classification:\\n'\n",
    "\n",
    "#Creating a list of kernels\n",
    "kernels=['linear','poly','rbf','sigmoid']\n",
    "\n",
    "#Loop through each kernel\n",
    "for k in kernels:\n",
    "    \n",
    "    #Create random indices\n",
    "    sample_index=random.sample(range(len(x)),len(x)/5)\n",
    "    valid_index=[i for i in range(len(x)) if i not in sample_index]\n",
    "\n",
    "    #Sample and validation images\n",
    "    sample_images=[x[i] for i in sample_index]\n",
    "    valid_images=[x[i] for i in valid_index]\n",
    "\n",
    "    #Sample and validation targets\n",
    "    sample_target=[y[i] for i in sample_index]\n",
    "    valid_target=[y[i] for i in valid_index]\n",
    "    \n",
    "    #Use SVC classifier with selected kernel\n",
    "    classifier = svm.SVC(gamma=0.001, kernel=k)\n",
    "    \n",
    "    #Fit model with sample data\n",
    "    classifier.fit(sample_images, sample_target)\n",
    "\n",
    "    #Attempt to predict validation data\n",
    "    score=classifier.score(valid_images, valid_target)\n",
    "    \n",
    "    print k+'\\t\\t'+str(score)"
   ]
  },
  {
   "cell_type": "markdown",
   "metadata": {},
   "source": [
    "Linear, Polynomial and RBF kernels produce the best results. The difference between them is negligible as we are dealing with randomized datasets.\n",
    "\n",
    "Sigmoid produces a significanly low score and hence is not appropriate for this model."
   ]
  },
  {
   "cell_type": "code",
   "execution_count": 24,
   "metadata": {
    "collapsed": false
   },
   "outputs": [
    {
     "name": "stdout",
     "output_type": "stream",
     "text": [
      "Ready to plot\n"
     ]
    }
   ],
   "source": [
    "#Perform this classification task with sklearn.ensemble.RandomForestClassifier. \n",
    "#Write in the markdown below the impact each of the parammeter had on the result\n",
    " #   1. max_depth: \n",
    " #   2. max_features:\n",
    " #   3. n_estimators:\n",
    "#Try a few sets of parameters for each model and check the F1 score \n",
    "#(sklearn.metrics.f1_score) on your results. Output the best F1 score that you achieve. \n",
    "\n",
    "def max_depth():\n",
    "    max_depth=[]\n",
    "    for n in range(1,50):\n",
    "        classifier = ensemble.RandomForestClassifier(max_depth=n)\n",
    "        classifier.fit(sample_images, sample_target)\n",
    "        max_depth.append(classifier.score(valid_images, valid_target))\n",
    "    return max_depth\n",
    "        \n",
    "def max_features():\n",
    "    max_features=[]\n",
    "    for n in range(1,50):\n",
    "        classifier = ensemble.RandomForestClassifier(max_features=n)\n",
    "        classifier.fit(sample_images, sample_target)\n",
    "        max_features.append(classifier.score(valid_images, valid_target))\n",
    "    return max_features\n",
    "        \n",
    "def n_estimators():\n",
    "    n_estimators=[]\n",
    "    for n in range(1,50):\n",
    "        classifier = ensemble.RandomForestClassifier(n_estimators=n)\n",
    "        classifier.fit(sample_images, sample_target)\n",
    "        n_estimators.append(classifier.score(valid_images, valid_target))\n",
    "    return n_estimators\n",
    "\n",
    "#Define variables\n",
    "n_samples = len(digits.images)\n",
    "x = digits.images.reshape((n_samples, -1))\n",
    "y = digits.target\n",
    "\n",
    "#Create random indices\n",
    "sample_index=random.sample(range(len(x)),len(x)/5)\n",
    "valid_index=[i for i in range(len(x)) if i not in sample_index]\n",
    "\n",
    "#Sample and validation images\n",
    "sample_images=[x[i] for i in sample_index]\n",
    "valid_images=[x[i] for i in valid_index]\n",
    "\n",
    "#Sample and validation targets\n",
    "sample_target=[y[i] for i in sample_index]\n",
    "valid_target=[y[i] for i in valid_index]\n",
    "\n",
    "#Using the Random Tree Classifier\n",
    "classifier = ensemble.RandomForestClassifier()\n",
    "\n",
    "#Fit model with sample data\n",
    "classifier.fit(sample_images, sample_target)\n",
    "\n",
    "#Attempt to predict validation data\n",
    "max_depth=max_depth()\n",
    "max_features=max_features()\n",
    "n_estimators=n_estimators()\n",
    "\n",
    "print 'Ready to plot'"
   ]
  },
  {
   "cell_type": "code",
   "execution_count": 26,
   "metadata": {
    "collapsed": false
   },
   "outputs": [
    {
     "data": {
      "image/png": "[encoded data removed]",
      "text/plain": [
       "<matplotlib.figure.Figure at 0x7f20329476d0>"
      ]
     },
     "metadata": {},
     "output_type": "display_data"
    }
   ],
   "source": [
    "#Plot\n",
    "f=plt.figure(figsize=(15,5))\n",
    "ax=f.add_subplot(111)\n",
    "ax.plot(max_depth)\n",
    "ax.plot(max_features)\n",
    "ax.plot(n_estimators)\n",
    "ax.set_xlabel('Value')\n",
    "ax.set_ylabel('Score')\n",
    "ax.set_title('Random Forest Classification')\n",
    "ax.legend(['max_depth','max_features','n_estimators'], loc=0)\n",
    "plt.grid()"
   ]
  },
  {
   "cell_type": "markdown",
   "metadata": {},
   "source": [
    "The scores are around 0.9 when all 3 parameters are equal to 10."
   ]
  },
  {
   "cell_type": "markdown",
   "metadata": {},
   "source": [
    "###Dimensionality Reduction - PCA\n",
    "\n",
    "Principal Component Analysis is a very powerful unsupervised method for dimensionality reduction in data.\n",
    "Apply dimensionality reduction technique PCA (Principle Component Analysis) on the prev dataset - load_digits(). Use the sklearn inbuilt tool sklearn.decomposition.PCA\n",
    "Print the shape of the matrix before and after the application of PCA on the dataset. Using variance, analyze the ammount of information thrown away and plot the variance(cumulative) against the number of components\n",
    "Try other dimensionality reduction techniques - sklearn.decomposition.RandomizedPCA, sklearn.decomposition.FastICA as well (this extended analysis need not be submitted as part of homework)"
   ]
  },
  {
   "cell_type": "code",
   "execution_count": 32,
   "metadata": {
    "collapsed": false
   },
   "outputs": [
    {
     "name": "stdout",
     "output_type": "stream",
     "text": [
      "\n",
      "Original Matrix Size:\t(1797, 64)\n",
      "PCA Size:\t\t(1797, 5)\n",
      "\n",
      "Hence, PCA reduced the number of columns\n"
     ]
    }
   ],
   "source": [
    "#Define variables\n",
    "n_samples = len(digits.images)\n",
    "x = digits.images.reshape((n_samples, -1))\n",
    "print '\\nOriginal Matrix Size:\\t'+str(np.shape(x))\n",
    "\n",
    "#PCA\n",
    "K=5\n",
    "pca=decomposition.PCA(n_components=K)\n",
    "pca.fit(x)\n",
    "T=pca.transform(x)\n",
    "print 'PCA Size:\\t\\t'+str(np.shape(T))\n",
    "print '\\nHence, PCA reduced the number of columns'"
   ]
  },
  {
   "cell_type": "code",
   "execution_count": 37,
   "metadata": {
    "collapsed": false
   },
   "outputs": [
    {
     "name": "stdout",
     "output_type": "stream",
     "text": [
      "\n",
      "We can have 85% accuracy with K=20.\n"
     ]
    },
    {
     "data": {
      "image/png": "[encoded data removed]",
      "text/plain": [
       "<matplotlib.figure.Figure at 0x7f84c99e14d0>"
      ]
     },
     "metadata": {},
     "output_type": "display_data"
    }
   ],
   "source": [
    "pca=decomposition.PCA()\n",
    "pca.fit(x)\n",
    "T=pca.transform(x)\n",
    "np.shape(T)\n",
    "cumulative_explained = np.cumsum(pca.explained_variance_ratio_) \n",
    "plt.figure(figsize=(15,5))\n",
    "plt.plot(cumulative_explained)\n",
    "plt.xlabel('K Components')\n",
    "plt.ylabel('Cumulative Variance')\n",
    "plt.title('PCA')\n",
    "plt.grid()\n",
    "print '\\nWe can have 85% accuracy with K=20.'"
   ]
  },
  {
   "cell_type": "code",
   "execution_count": 38,
   "metadata": {
    "collapsed": false
   },
   "outputs": [
    {
     "name": "stdout",
     "output_type": "stream",
     "text": [
      "\n",
      "We can have 85% accuracy with K=20.\n"
     ]
    },
    {
     "data": {
      "image/png": "[encoded data removed]",
      "text/plain": [
       "<matplotlib.figure.Figure at 0x7f84c9e4f110>"
      ]
     },
     "metadata": {},
     "output_type": "display_data"
    }
   ],
   "source": [
    "pca=decomposition.RandomizedPCA()\n",
    "pca.fit(x)\n",
    "T=pca.transform(x)\n",
    "np.shape(T)\n",
    "cumulative_explained = np.cumsum(pca.explained_variance_ratio_) \n",
    "plt.figure(figsize=(15,5))\n",
    "plt.plot(cumulative_explained)\n",
    "plt.xlabel('K Components')\n",
    "plt.ylabel('Cumulative Variance')\n",
    "plt.title('Randomized PCA')\n",
    "plt.grid()\n",
    "print '\\nWe can have 85% accuracy with K=20.'"
   ]
  },
  {
   "cell_type": "markdown",
   "metadata": {},
   "source": [
    "There is no apparent change in K value using Ramdomized PCA instead of PCA."
   ]
  },
  {
   "cell_type": "markdown",
   "metadata": {
    "collapsed": false
   },
   "source": [
    "###Weather Analysis"
   ]
  },
  {
   "cell_type": "markdown",
   "metadata": {},
   "source": [
    "<span style=\"color:red\"> The correlations between different $V_i$ components should be zero, which it isn't.\n",
    "Is this due to numerical roundoff errors? Are the correlations statistically significant for this sample size? </span>\n",
    "\n",
    "For the sample size, the error value is high. This is because the values are greater than 0.05."
   ]
  },
  {
   "cell_type": "markdown",
   "metadata": {},
   "source": [
    "<span style=\"color:red\">Waiting for somebody to write a script that will do that automatically from python i.e write a script in python return the google maps url when passed with the latitude and longitudinal values of the place</span>\n"
   ]
  },
  {
   "cell_type": "code",
   "execution_count": null,
   "metadata": {
    "collapsed": true
   },
   "outputs": [],
   "source": [
    "def Google_Map(latitude,longitude):\n",
    "    main='https://www.google.com/maps/@'\n",
    "    url=main+str(latitude)+','+str(longitude)+',17z'\n",
    "    return url"
   ]
  },
  {
   "cell_type": "markdown",
   "metadata": {},
   "source": [
    "<span style=\"color:red\">Can you create a map where the denity of points is represented as a density map (topographical map)?</span>"
   ]
  },
  {
   "cell_type": "markdown",
   "metadata": {},
   "source": [
    "<img src=\"index.png\">"
   ]
  },
  {
   "cell_type": "markdown",
   "metadata": {},
   "source": [
    "<span style=\"color:red\">Can you create a map that would represent, using color, the values of a chosen column (Mean, Std, V0,V1 etc.)? What conclusions can you draw from this map?</span>"
   ]
  },
  {
   "cell_type": "markdown",
   "metadata": {},
   "source": [
    "<img src=\"index2.png\">"
   ]
  },
  {
   "cell_type": "markdown",
   "metadata": {},
   "source": [
    "<span style=\"color:red\"> Check how the approximations change/improve as you increase the number of coefficients</span>\n",
    "\n",
    "Changing K value in the function has no affect on the variance."
   ]
  },
  {
   "cell_type": "markdown",
   "metadata": {},
   "source": [
    "<span style=\"color:red\">Can you reduce the reconstruction error (using a fixed number of eigenvectors) by splitting the stations according to region (for example country, state, latitudal range). Note that having a regions with very few readings defeats the purpose.\n",
    "\n",
    "Separating data by location increased the error because:\n",
    "1. there are differnent temperature readings accross the state\n",
    "2. the sample size is smaller"
   ]
  },
  {
   "cell_type": "code",
   "execution_count": null,
   "metadata": {
    "collapsed": true
   },
   "outputs": [],
   "source": []
  }
 ],
 "metadata": {
  "kernelspec": {
   "display_name": "Python 2",
   "language": "python",
   "name": "python2"
  },
  "language_info": {
   "codemirror_mode": {
    "name": "ipython",
    "version": 2
   },
   "file_extension": ".py",
   "mimetype": "text/x-python",
   "name": "python",
   "nbconvert_exporter": "python",
   "pygments_lexer": "ipython2",
   "version": "2.7.10"
  }
 },
 "nbformat": 4,
 "nbformat_minor": 0
}
